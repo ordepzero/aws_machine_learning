{
 "cells": [
  {
   "cell_type": "markdown",
   "id": "4abf360a-765f-47fe-86af-4be9873b769b",
   "metadata": {},
   "source": [
    "Visão Geral Do Projeto E Resultados De Aprendizagem\n",
    "\r\n",
    "* Analisaremos informações de funcionários corporativos usando Pandas em Jupyter Notebooks em\r\n",
    "Estúdio AWS SageMaker.\r\n",
    "* Aprenderemos como:\r\n",
    "1. Selecione colunas específicas do DataFrame\r\n",
    "2. Adicionar/excluir colunas do DataFrame\r\n",
    "3. Realize a seleção de elementos baseados em rótulo/número inteiro\r\n",
    "4. Realize operações de transmissão\r\n",
    "5. Execute a classificação/ordenação dos DataFrames do Pandas"
   ]
  }
 ],
 "metadata": {
  "kernelspec": {
   "display_name": "Python 3 (ipykernel)",
   "language": "python",
   "name": "python3"
  },
  "language_info": {
   "codemirror_mode": {
    "name": "ipython",
    "version": 3
   },
   "file_extension": ".py",
   "mimetype": "text/x-python",
   "name": "python",
   "nbconvert_exporter": "python",
   "pygments_lexer": "ipython3",
   "version": "3.8.18"
  }
 },
 "nbformat": 4,
 "nbformat_minor": 5
}
