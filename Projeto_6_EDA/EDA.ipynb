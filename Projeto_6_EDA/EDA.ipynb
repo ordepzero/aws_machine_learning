{
 "cells": [
  {
   "cell_type": "markdown",
   "id": "104c6f77-9de7-429a-9300-ace30e555928",
   "metadata": {},
   "source": [
    "Análise Exploratória De Dados (Eda)\n",
    "\n",
    "* Análise Exploratória de Dados (EDA) é um processo usado por cientistas de dados para analisar dados e obter\n",
    "insights valiosos.\n",
    "* A EDA capacita cientistas de dados para obter uma melhor compreensão dos dados, detectar padrões,\n",
    "e identificar outliers.\n",
    "* As ferramentas EDA funcionam gerando um resumo estatístico (mínimo, máximo, média e contagem)\n",
    "e realizar visualizações de dados.\n",
    "* EDA é a primeira etapa no desenvolvimento de qualquer fluxo de trabalho de aprendizado de máquina.\n",
    "* Depois que o EDA estiver concluído, os dados poderão prosseguir para a próxima etapa, que é a engenharia de dados.\n",
    "\n",
    "- Análise exploratória de dados (EDA) > Engenharia de dados/característica > Modelagem > Implantação e inferência\n",
    "  "
   ]
  },
  {
   "cell_type": "markdown",
   "id": "a7e74fbb-28b2-43d0-8382-d7217f89a1cf",
   "metadata": {},
   "source": [
    "### Visão Geral Do Projeto\n",
    "\r",
    "Analisaremos informações de funcionários corporativos usando Pandas em Jupyter Notebooks em\r\n",
    "Estúdio AWS SageMaker.\r\n",
    "\r\n",
    "Aprenderemos como:\r\n",
    "\r\n",
    "- Configurar o ambiente\r\n",
    "- Iniciar um jupyter notebook\r\n",
    "- Defina um Dataframe do pandas\r\n",
    "- Leia dados CSV usando Pandas\r\n",
    "- Realize análises estatísticas básicas dos dados\r\n",
    "- Definir/redefinir o índice Pandas DataFrame\r\n",
    "- Realizar EDA em um conjunto de dados totalmente novote novo."
   ]
  },
  {
   "cell_type": "markdown",
   "id": "a5dc70fa-cbc0-4824-81b1-1780f60e7b8b",
   "metadata": {},
   "source": [
    "#### Iniciando o ambiente\n",
    "\n",
    "![](images/studio_get_started.png)"
   ]
  },
  {
   "cell_type": "markdown",
   "id": "cfbaba19-9794-4067-8857-1dbc781ed9d7",
   "metadata": {},
   "source": [
    "#### SageMaker Studio Home\n",
    "\n",
    "![](images/sagemaker_studio_home.png)"
   ]
  },
  {
   "cell_type": "markdown",
   "id": "540ce946-cb23-4e02-ac27-c5e1a420afd7",
   "metadata": {},
   "source": [
    "#### Criando o ambiente\n",
    "\n",
    "![](images/criando_ambiente.png)"
   ]
  },
  {
   "cell_type": "markdown",
   "id": "3d7a2402-b058-4284-8ce1-6f6b5696d487",
   "metadata": {},
   "source": [
    "#### Carregando os arquivos da atividade no ambiente criado\n",
    "\n",
    "![](images/carregando_arquivos.png)"
   ]
  },
  {
   "cell_type": "markdown",
   "id": "d86dcb5f-f50e-403e-b87b-62f6aa2c295b",
   "metadata": {},
   "source": [
    "#### Resolução do exercício prático \n",
    "\n",
    "![](images/resolucao_exercicio_1.png)"
   ]
  },
  {
   "cell_type": "markdown",
   "id": "5a54fb76-6dfe-4277-bd67-efff2b673221",
   "metadata": {},
   "source": [
    "#### SageMaker Studio Home\n",
    "\n",
    "![](images/sagemaker_studio_home.png)"
   ]
  },
  {
   "cell_type": "markdown",
   "id": "b9eacb6a-330c-444f-8d69-d6d354c52865",
   "metadata": {},
   "source": [
    "#### SageMaker Studio Home\n",
    "\n",
    "![](images/sagemaker_studio_home.png)"
   ]
  }
 ],
 "metadata": {
  "kernelspec": {
   "display_name": "datascience_guide",
   "language": "python",
   "name": "datascience_guide"
  },
  "language_info": {
   "codemirror_mode": {
    "name": "ipython",
    "version": 3
   },
   "file_extension": ".py",
   "mimetype": "text/x-python",
   "name": "python",
   "nbconvert_exporter": "python",
   "pygments_lexer": "ipython3",
   "version": "3.8.18"
  }
 },
 "nbformat": 4,
 "nbformat_minor": 5
}
