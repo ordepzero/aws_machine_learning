{
 "cells": [
  {
   "cell_type": "markdown",
   "id": "85a8089e-54bf-43b4-85f2-ddc1903d1437",
   "metadata": {},
   "source": [
    "### WHAT IS AWS SAGEMAKER CANVAS?\n",
    "\n",
    "O AWS SageMaker Canvas permite que qualquer pessoa crie, treine e teste um modelo de machine learning sem escrever uma única linha de código!\n",
    "\r",
    " Com o AWS Canvas, qualquer pessoa pode\n",
    ":    - Importe dados do S3 ou de qualquer outra font    \n",
    "- Construir um modelo de IA/    \r\n",
    "- Avaliar o desempenho do mod    o\r\n",
    "- Realizar inferências e gerar previ    es\r\n",
    "- Exportar modelo para SageMaker tudior Studio\r\n"
   ]
  }
 ],
 "metadata": {
  "kernelspec": {
   "display_name": "Python 3 (ipykernel)",
   "language": "python",
   "name": "python3"
  },
  "language_info": {
   "codemirror_mode": {
    "name": "ipython",
    "version": 3
   },
   "file_extension": ".py",
   "mimetype": "text/x-python",
   "name": "python",
   "nbconvert_exporter": "python",
   "pygments_lexer": "ipython3",
   "version": "3.8.18"
  }
 },
 "nbformat": 4,
 "nbformat_minor": 5
}
