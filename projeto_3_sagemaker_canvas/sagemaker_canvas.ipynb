{
 "cells": [
  {
   "cell_type": "markdown",
   "id": "85a8089e-54bf-43b4-85f2-ddc1903d1437",
   "metadata": {},
   "source": [
    "### O que é AWS Sagemaker Canvas?\r\n",
    "\r\n",
    "O **AWS SageMaker Canvas** permite que **qualquer pessoa** crie, treine e teste um modelo de **machine learning** sem escrever uma única linha de código! 🚀\r\n",
    "\r\n",
    "Com o AWS Canvas, você pode:\r\n",
    "\r\n",
    "1. **Importar dados** do S3 ou de qualquer outra fonte.\r\n",
    "2. **Construir um modelo de IA/ML**.\r\n",
    "3. **Avaliar o desempenho do modelo**.\r\n",
    "4. **Realizar inferências e gerar previsões**.\r\n",
    "5. **Exportar o modelo para o SageMaker Studio**.\r\n",
    "\r\n",
    "Experimente o SageMaker Canvas e desbrave o mundo do machine learning de forma acessível e eficiente! 😊\r\n",
    "\r\n",
    "Para mais informações, visite a página oficial do [Amazon SageMaker Canvas](https://aws.amazon.com/sagemaker/canvas/).tudior Studio\r\n"
   ]
  },
  {
   "cell_type": "markdown",
   "id": "6979a138-458d-4018-998e-315fa4bae979",
   "metadata": {},
   "source": [
    "### Visão Geral do Projeto: Converter ºC Para ºF\n",
    "\n",
    "Neste projeto, treinaremos um modelo simples de **aprendizado de máquina** para converter temperaturas de **Celsius** para **Fahrenheit** usando o **Amazon SageMaker Canvas**.\n",
    "\n",
    "O **SageMaker Canvas** permite que **qualquer pessoa** crie modelos de **ML poderosos** sem escrever qualquer código ou ter qualquer conhecimento prévio em **IA/ML**. A equação para a conversão de temperaturas é a seguinte:\n",
    "\n",
    "$T(ºF) = T(ºC) \\times \\frac{9}{5} + 32$\n",
    "\n",
    "Por exemplo, vamos converter a temperatura de **0ºC** Celsius para Fahrenheit:\n",
    "\n",
    "$T(ºF) = (0ºC \\times \\frac{9}{5}) + 32 = 32ºF$\n",
    "\n"
   ]
  },
  {
   "cell_type": "markdown",
   "id": "e45fb3fe-4d9a-4cb8-bd04-fafcc69d8a6d",
   "metadata": {},
   "source": [
    "### Objetivo\n",
    "\n",
    "O objetivo é prever o valor de uma variável Y com base em outra variável X.\n",
    "\n",
    "Xi é chamada de variável independente e Y é chamada de variável dependente.\n",
    "\n",
    "Isso é chamado de “Regressão” e será abordado com muito mais detalhes nas seções posteriores do curso."
   ]
  },
  {
   "cell_type": "markdown",
   "id": "00733f19-0a64-45eb-b490-b239e83f395a",
   "metadata": {},
   "source": [
    "![Regressão Linear - Fahrenheit x Calsius](images/temperatura_fah_cel.png)"
   ]
  },
  {
   "cell_type": "markdown",
   "id": "1073c459-10c8-410e-8e2d-4984af9711f2",
   "metadata": {},
   "source": [
    "### Tutorial"
   ]
  },
  {
   "cell_type": "markdown",
   "id": "80d4a1e6-ec0f-495c-8708-f686d62a7569",
   "metadata": {},
   "source": [
    "#### Criando um domínio"
   ]
  },
  {
   "cell_type": "markdown",
   "id": "08cb78ee-8dd9-4290-a1a1-3799ea466ce4",
   "metadata": {},
   "source": [
    "- Caso não tenho um domínio criado, há a opção de criar um novo domínio"
   ]
  },
  {
   "cell_type": "markdown",
   "id": "5c0b7117-46b6-4688-87d7-36b3049f4f6b",
   "metadata": {},
   "source": [
    "#### Listando os domínios"
   ]
  },
  {
   "cell_type": "markdown",
   "id": "80c04b31-1c88-41b7-a93e-45fc217ba215",
   "metadata": {},
   "source": [
    "![Lauch Canvas](images/domains.png)"
   ]
  },
  {
   "cell_type": "markdown",
   "id": "cff373e8-43cd-40fa-9aff-90b317f3cd98",
   "metadata": {},
   "source": [
    "#### Iniciando o Canvas"
   ]
  },
  {
   "cell_type": "markdown",
   "id": "5d67cb2f-387b-46b2-adfa-9fbfc20de157",
   "metadata": {},
   "source": [
    "![Lauch Canvas](images/launch_canvas.png)"
   ]
  },
  {
   "cell_type": "markdown",
   "id": "06ed924b-fc89-46b7-b444-1a7458f182c4",
   "metadata": {},
   "source": [
    "- Vai levar alguns minutos para abrir a plataforma"
   ]
  },
  {
   "cell_type": "markdown",
   "id": "e510b283-3e97-4455-a3f1-f2ba038be6ba",
   "metadata": {},
   "source": [
    "![Carregando Canvas](images/loading_canvas.png)"
   ]
  },
  {
   "cell_type": "markdown",
   "id": "537ba0a4-2d48-4df3-a60d-db7412d766c5",
   "metadata": {},
   "source": [
    "#### Carregando as temperaturas no S3"
   ]
  },
  {
   "cell_type": "markdown",
   "id": "5f1a53e8-3379-4c32-a250-5d8859e2eb5a",
   "metadata": {},
   "source": [
    "![Loading temperatures](images/loading_temperatures.png)"
   ]
  },
  {
   "cell_type": "markdown",
   "id": "afdf421d-6c97-4b40-84ba-4621fe0ab3f0",
   "metadata": {},
   "source": [
    "#### Conteúdo do arquivo"
   ]
  },
  {
   "cell_type": "markdown",
   "id": "7a34a14c-b12e-4c71-9e4a-ac13a7008084",
   "metadata": {},
   "source": [
    "![Valores das temperaturas](images/valores_temperaturas.png)"
   ]
  },
  {
   "cell_type": "markdown",
   "id": "6550017c-9952-4374-909c-f6bd221b0fd4",
   "metadata": {},
   "source": [
    "- Primeira coluna são valores de temperaturas em Celsius e a outra coluna é Fahrenheit"
   ]
  },
  {
   "cell_type": "markdown",
   "id": "79e9acaf-e0e9-42d3-87eb-e4b3dff7e66b",
   "metadata": {},
   "source": [
    "#### Página Inicial do Canvas"
   ]
  },
  {
   "cell_type": "markdown",
   "id": "eaafa912-76ba-40f4-ac8d-d47a56067305",
   "metadata": {},
   "source": [
    "![Página Inicial Canvas](images/pagina_inicial_canvas.png)"
   ]
  },
  {
   "cell_type": "markdown",
   "id": "aa869283-d95f-4892-94e3-ac64491865fd",
   "metadata": {},
   "source": [
    "#### Carregando arquivo local no Canvas"
   ]
  },
  {
   "cell_type": "markdown",
   "id": "22f049c7-ea5f-49d4-b423-3b6e206bb2b5",
   "metadata": {},
   "source": [
    "![Loading Database no Canvas](images/loading_database_canvas.png)"
   ]
  },
  {
   "cell_type": "markdown",
   "id": "c094dac8-c30f-4375-83c0-d02d5a417adf",
   "metadata": {},
   "source": [
    "- Acessa a opção data wrangler\n",
    "- Clica em `Create`\n",
    "- Seleciona `Tabular`\n",
    "- Nomeia o database\n",
    "- Carrega o arquivo"
   ]
  },
  {
   "cell_type": "markdown",
   "id": "c3e177f9-a28e-4702-9ed8-e8a8db2ae4c7",
   "metadata": {},
   "source": [
    "#### Importando dados do S3 no Canvas"
   ]
  },
  {
   "cell_type": "markdown",
   "id": "9f50601f-60ae-47b1-956c-d3fc04992b1b",
   "metadata": {},
   "source": [
    "![Launch Canvas](images/loading_s3_file_canvas.png)"
   ]
  },
  {
   "cell_type": "markdown",
   "id": "62c0fb36-d6b2-4b66-9859-beed74b4c6ee",
   "metadata": {},
   "source": [
    "#### Criando um novo modelo"
   ]
  },
  {
   "cell_type": "markdown",
   "id": "122b86a8-b487-4a47-96e6-b3deacf3656c",
   "metadata": {},
   "source": [
    "![Criando modelo de predição](images/modelo_predicao_temperatura.png)"
   ]
  },
  {
   "cell_type": "markdown",
   "id": "9e37f425-f92e-40a1-aa5e-4a71f7c50b9c",
   "metadata": {},
   "source": [
    "- Seleciona `My Models`\n",
    "- Nomeia o modelo\n",
    "- Seleciona o tipo de tarefa\n",
    "- Seleciona o dataset"
   ]
  },
  {
   "cell_type": "markdown",
   "id": "d4057c92-0d84-43a0-968b-22d6f7027073",
   "metadata": {},
   "source": [
    "#### Tela de treinamento do modelo"
   ]
  },
  {
   "cell_type": "markdown",
   "id": "9a1e658b-aa7f-4e9a-97d2-ad0cfe6f6246",
   "metadata": {},
   "source": [
    "![Tela de treinamento do modelo](images/build_model.png)"
   ]
  },
  {
   "cell_type": "markdown",
   "id": "aa0becdd-c44c-4f24-af36-16b179cf7443",
   "metadata": {},
   "source": [
    "- Descrição dos campos\n",
    "- Coluna alvo"
   ]
  },
  {
   "cell_type": "markdown",
   "id": "7febb701-8783-484e-aeca-36df342847f3",
   "metadata": {},
   "source": [
    "#### Quick Build"
   ]
  },
  {
   "cell_type": "markdown",
   "id": "616b18ed-3d2b-4cf0-8a10-d90ef22d9e87",
   "metadata": {},
   "source": [
    "![Quick Build](images/quick_build.png)"
   ]
  },
  {
   "cell_type": "markdown",
   "id": "9b11e42a-0427-4b5d-8720-f3e2252be566",
   "metadata": {},
   "source": [
    "#### Análise do Modelo"
   ]
  },
  {
   "cell_type": "markdown",
   "id": "4e813aa6-a5f4-4f95-bae2-82e95cafa679",
   "metadata": {},
   "source": [
    "![Análise do modelo](images/model_analysis.png)"
   ]
  },
  {
   "cell_type": "markdown",
   "id": "ced8ec56-e636-42c5-b1af-08fa4b4a0fd0",
   "metadata": {},
   "source": [
    "#### Scoring Model"
   ]
  },
  {
   "cell_type": "markdown",
   "id": "4af90573-95f5-4721-8308-7e79afb7b516",
   "metadata": {},
   "source": [
    "![Scoring Model](images/scoring_model.png)"
   ]
  },
  {
   "cell_type": "markdown",
   "id": "2f4d6e2a-fff4-4cc1-a0d8-2a8b99207c41",
   "metadata": {},
   "source": [
    "- Apresenta os dados que foram utilizados para o treinamento e avaliação"
   ]
  },
  {
   "cell_type": "markdown",
   "id": "f50c4aa4-26a3-4a15-b23f-069a60334491",
   "metadata": {},
   "source": [
    "#### Prevendo uma única temperatura"
   ]
  },
  {
   "cell_type": "markdown",
   "id": "7814f7a1-96b3-4d9e-8311-50211beacaf7",
   "metadata": {},
   "source": [
    "![Single Prediction](images/single_prediction.png)"
   ]
  },
  {
   "cell_type": "markdown",
   "id": "ae1c41b6-c762-41b1-9337-8db43b9ae24e",
   "metadata": {},
   "source": [
    "- -1ºC é igual a 30.2 ºF"
   ]
  },
  {
   "cell_type": "code",
   "execution_count": null,
   "id": "869f7f4a-fd32-47cb-994f-3433f203e6f6",
   "metadata": {},
   "outputs": [],
   "source": []
  },
  {
   "cell_type": "code",
   "execution_count": null,
   "id": "873a367a-c55a-4e69-95bc-f88edf355006",
   "metadata": {},
   "outputs": [],
   "source": [
    "![Launch Canvas](images/launch_canvas.png)"
   ]
  }
 ],
 "metadata": {
  "kernelspec": {
   "display_name": "Python 3 (ipykernel)",
   "language": "python",
   "name": "python3"
  },
  "language_info": {
   "codemirror_mode": {
    "name": "ipython",
    "version": 3
   },
   "file_extension": ".py",
   "mimetype": "text/x-python",
   "name": "python",
   "nbconvert_exporter": "python",
   "pygments_lexer": "ipython3",
   "version": "3.8.18"
  }
 },
 "nbformat": 4,
 "nbformat_minor": 5
}
