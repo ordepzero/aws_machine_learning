{
 "cells": [
  {
   "cell_type": "markdown",
   "id": "c04e8590-e09f-490d-b4d0-cd049c70c49d",
   "metadata": {},
   "source": [
    "### Visão Geral Dos Projetos\n",
    "\r\n",
    "* Neste projeto, aprenderemos como (1) rotular imagens para detecção de objetos desenhando\r\n",
    "caixas delimitadoras, (2) para rotular dados de texto para realizar análise de sentimento e (3) realizar\r\n",
    "segmentação semântica em nível de pixel usando Amazon SageMaker GroundTruth.\r\n",
    "* Estes são os principais resultados de aprendizagem:\r\n",
    "1. Aprenda como definir um trabalho de rotulagem de caixa delimitadora usando Amazon SageMaker\r\n",
    "Verdade fundamental\r\n",
    "2. Aprenda como definir um trabalho de rotulagem de texto usando o Amazon SageMaker Groundtruth\r\n",
    "3. Aprenda como definir o trabalho de rotulagem de segmentação semântica usandoGroundtruthndamental do SageMaker\r\n",
    "4. Execute o trabalho de rotulagem de texto\r\n",
    "5. Desenhe caixas delimitadoras e semântica em nível de pixel no Amaz GroundtruthTerrestre Fm"
   ]
  },
  {
   "cell_type": "markdown",
   "id": "fd97930b-b18f-4d7f-ab8e-8b9983b7f6d4",
   "metadata": {},
   "source": [
    "### Projeto Prático - Rotulando Textos\n",
    "\n",
    "#### Rotulando texto para análise semântica\n",
    "\n",
    "- Criando um bucket\n",
    "- Carregando a amostra de texto no bucket criado\n",
    "- Criando o job de rotulação\n",
    "- Configurando o job\n",
    "- Criação do arquivo Manifest "
   ]
  },
  {
   "cell_type": "markdown",
   "id": "da8b2fd4-54dd-4055-9d03-98a30d8f0b26",
   "metadata": {},
   "source": [
    "#### Criando bucket\n",
    "\n",
    "![Criando o bucket](images/criando_bucket.png)\r\n"
   ]
  },
  {
   "cell_type": "markdown",
   "id": "c9d084c1-995e-4ce9-80b5-9fbbbe8c0c2f",
   "metadata": {},
   "source": [
    "#### Amostra de texto\n",
    "![Criando o bucket](images/amostra_texto.png)\n",
    "\n",
    "O arquivo contendo esses texto é carregado no bucket"
   ]
  },
  {
   "cell_type": "markdown",
   "id": "def260e2-b967-4853-8d0f-a647892329ee",
   "metadata": {},
   "source": [
    "#### Criando o job de rotulação de texto\n",
    "\n",
    "![Criando o bucket](images/rotulacao_texto_job.png)\n",
    "\n",
    "SageMaker > GroundTruth > Labeling job"
   ]
  },
  {
   "cell_type": "markdown",
   "id": "87176932-87cb-48f7-985d-87d11953c20b",
   "metadata": {},
   "source": [
    "#### Configuração completa\n",
    "\n",
    "![Criando o bucket](images/configuracao_completa.png)\n",
    "\n",
    "Configuração d: \n",
    "- S3 location for input datasets: bucket criado na etapa anterior\n",
    "- Data type: Text\n",
    "- IAM Role\n",
    "\n",
    "\n",
    "Clica em `Complete data-setup`"
   ]
  },
  {
   "cell_type": "markdown",
   "id": "a5624f76-9320-48e0-926e-e1667fbe7a5f",
   "metadata": {},
   "source": [
    "#### Verificando o arquivo Manifest\n",
    "\n",
    "![Criando o bucket](images/arquivo_manifest.png)"
   ]
  },
  {
   "cell_type": "markdown",
   "id": "123fbcbd-c5fb-44d4-a1e2-a70d83dc7a68",
   "metadata": {},
   "source": [
    "#### Tipo de Rotulação de Texto\n",
    "\n",
    "![Criando o bucket](images/tipo_rotulacao_texto.png)"
   ]
  },
  {
   "cell_type": "markdown",
   "id": "3f7b4720-4d40-47e1-9a13-1571805d89c8",
   "metadata": {},
   "source": [
    "#### Tipo de Rotuladores\n",
    "\n",
    "![Tipo de rotuladores](images/tipo_rotuladores.png)"
   ]
  },
  {
   "cell_type": "markdown",
   "id": "83b709bb-210c-4129-816d-a60d606c9208",
   "metadata": {},
   "source": [
    "#### Modelo de exibição do formulário\n",
    "\n",
    "![Modelo de exibição](images/modelo_exibicao.png)\n",
    "\n",
    "##### Modelo de exibição do formulário preenchido\n",
    "\n",
    "![Modelo de exibição](images/modelo_exibicao_preenchido.png)"
   ]
  }
 ],
 "metadata": {
  "kernelspec": {
   "display_name": "Python 3 (ipykernel)",
   "language": "python",
   "name": "python3"
  },
  "language_info": {
   "codemirror_mode": {
    "name": "ipython",
    "version": 3
   },
   "file_extension": ".py",
   "mimetype": "text/x-python",
   "name": "python",
   "nbconvert_exporter": "python",
   "pygments_lexer": "ipython3",
   "version": "3.8.18"
  }
 },
 "nbformat": 4,
 "nbformat_minor": 5
}
