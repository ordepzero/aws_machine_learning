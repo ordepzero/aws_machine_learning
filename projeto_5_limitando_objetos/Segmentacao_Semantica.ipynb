{
 "cells": [
  {
   "cell_type": "markdown",
   "id": "f35ee112-b408-4ef2-93a4-4b492e28516b",
   "metadata": {},
   "source": [
    "### Projeto Prático - Segmentacação Semântica\n",
    "\n",
    "#### Rotulando texto para análise semântica\n",
    "- Criando um bucket\n",
    "- Carregando a amostra de imagens no bucket criado\n",
    "- Criando o job de segmentação\n",
    "- Configurando o job\n",
    "- Criação do arquivo Manifest"
   ]
  },
  {
   "cell_type": "markdown",
   "id": "83567544-bd06-4e4b-9407-5d9373b4908f",
   "metadata": {},
   "source": [
    "#### Criando o bucket para armazenar as imagens\n",
    "\n",
    "![Bucket sendo criado](images/criando_bucket_segmentacao.png)"
   ]
  },
  {
   "cell_type": "markdown",
   "id": "9362facf-8f63-4dbb-bf2a-433af9445379",
   "metadata": {},
   "source": [
    "#### Imagens carregadas\n",
    "\n",
    "![Imagens carregadas](images/imagens_carregadas_segmentacao.png)"
   ]
  },
  {
   "cell_type": "markdown",
   "id": "1c91801f-e0fa-4a25-bb38-ecfca9092a82",
   "metadata": {},
   "source": [
    "#### Criação do job de segmentação semântica\n",
    "\n",
    "![Criação do job de segmentação semântica](images/segmentacao_semantica_job.png)"
   ]
  },
  {
   "cell_type": "markdown",
   "id": "151b6ae5-8164-42e6-a5d7-aff1fb9c73e4",
   "metadata": {},
   "source": [
    "#### Configuração da origem dos dados\n",
    "\n",
    "![Configuração da origem dos dados](images/segmentacao_semantica_dados.png)"
   ]
  },
  {
   "cell_type": "markdown",
   "id": "5f1c337e-ee2f-4c0a-aba5-3f00f2ef20a4",
   "metadata": {},
   "source": [
    "#### Categoria da tarefa\n",
    "\n",
    "![Categoria da tarefa](images/categoria_tarefa.png)"
   ]
  },
  {
   "cell_type": "markdown",
   "id": "ebedcb55-6974-4dd7-a5f5-cb5abc6d750a",
   "metadata": {},
   "source": [
    "#### Arquivo manifest gerado\n",
    "\n",
    "![Arquivo Manifest](images/arquivo_manifest_segmentacao.png)"
   ]
  },
  {
   "cell_type": "markdown",
   "id": "a3889ff2-a293-444a-8573-cfefb215c34d",
   "metadata": {},
   "source": [
    "#### Modelo de exibição da tarefa de sementação semântica\n",
    "\n",
    "![Modelo exibição segmentação](images/modelo_exibicao_segmentacao.png)"
   ]
  },
  {
   "cell_type": "markdown",
   "id": "303cbb0a-34eb-4f99-b698-a37c8247c35a",
   "metadata": {},
   "source": [
    "#### Iniciando a tarefa de segmentação semântica\n",
    "\n",
    "![Modelo exibição segmentação](images/iniciando_tarefa.png)"
   ]
  },
  {
   "cell_type": "markdown",
   "id": "5a73ed98-fbf1-466d-b204-2200438f870d",
   "metadata": {},
   "source": [
    "#### Selecionando o rótulo (label) do objeto que deseja segmentar\n",
    "\n",
    "![Selecionando o rótulo de segmentação](images/selecionando_rotulo_segmentacao.png)"
   ]
  },
  {
   "cell_type": "markdown",
   "id": "c10eaf72-75e9-4767-ba4d-fb2c339a9dab",
   "metadata": {},
   "source": [
    "#### Selecionando a ferramenta de segmentação\n",
    "\n",
    "![Selecionando a ferramenta de segmentação](images/selecionando_ferramenta_segmentacao.png)"
   ]
  },
  {
   "cell_type": "markdown",
   "id": "9852bb37-7640-49b4-84d4-34a8cbd4c3e9",
   "metadata": {},
   "source": [
    "#### Imagem segmentada\n",
    "\n",
    "![Imagem segmentada](images/imagem_segmentada.png)"
   ]
  },
  {
   "cell_type": "markdown",
   "id": "9a4da376-939e-4b18-b241-7e34b06eb464",
   "metadata": {},
   "source": [
    "#### Resultado da segmentação\n",
    "\n",
    "![Resultado da segmentação](images/resultado_segmentacao.png)"
   ]
  },
  {
   "cell_type": "markdown",
   "id": "38f12de6-f840-4502-9afe-9c88e623d7b0",
   "metadata": {},
   "source": [
    "#### Resultado no arquivo manifest\n",
    "\n",
    "![Resultado no arquivo manifest](images/resultado_segmentacao_manifest.png)"
   ]
  },
  {
   "cell_type": "markdown",
   "id": "158c93f1-3f63-4795-9de4-ae7805e088c5",
   "metadata": {},
   "source": [
    "#### Conteúdo do arquivo manifest\n",
    "\n",
    "![Conteúdo do arquivo manifest](images/conteudo_manifest_segmentacao.png)"
   ]
  },
  {
   "cell_type": "markdown",
   "id": "506a00b1-1fa5-4229-83cd-ad827407667b",
   "metadata": {},
   "source": [
    "#### Máscara criada pelo conteúdo do arquivo manifest\n",
    "\n",
    "![Máscara do manifest](images/mascara_manifest.png)\n",
    "\n",
    "![Máscara do manifest](images/0_2024-03-10T15_45_28.409847.png)"
   ]
  },
  {
   "cell_type": "code",
   "execution_count": null,
   "id": "fb921500-a74b-4fc9-8192-66ba69ee906c",
   "metadata": {},
   "outputs": [],
   "source": []
  }
 ],
 "metadata": {
  "kernelspec": {
   "display_name": "Python 3 (ipykernel)",
   "language": "python",
   "name": "python3"
  },
  "language_info": {
   "codemirror_mode": {
    "name": "ipython",
    "version": 3
   },
   "file_extension": ".py",
   "mimetype": "text/x-python",
   "name": "python",
   "nbconvert_exporter": "python",
   "pygments_lexer": "ipython3",
   "version": "3.8.18"
  }
 },
 "nbformat": 4,
 "nbformat_minor": 5
}
