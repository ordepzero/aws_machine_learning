{
 "cells": [
  {
   "cell_type": "markdown",
   "id": "36a72d1f-b59c-4865-83fe-e6b80156b63b",
   "metadata": {},
   "source": [
    "### Visão Geral do Projeto\n",
    "* Neste projeto, aprenderemos como rotular imagens usando Amazon SageMaker GroundTruth.\n",
    "* Estes são os principais resultados de aprendizagem:\n",
    "\n",
    "1. A necessidade de conjuntos de dados rotulados\n",
    "\n",
    "2. Aplicações de aprendizagem supervisionada\n",
    "\n",
    "3. Desafios na obtenção de conjuntos de dados rotulados\n",
    "\n",
    "4. Aprenda como definir um trabalho de rotulagem usando o Amazon SageMaker Groundtruth\n",
    "\n",
    "5. Aprenda como rotular dados no Amazon SageMaker Groundtruth\n",
    "\n",
    "6. Compreenda o conceito de JsonL e arquivos de manifesto"
   ]
  },
  {
   "cell_type": "markdown",
   "id": "fa2b1e84-b1a5-4b14-83b5-45c81ac12818",
   "metadata": {},
   "source": [
    "### AWS Ground Truth\n",
    "Ground Truth ajuda você a construir conjuntos de dados de treinamento de alta qualidade para seus modelos de aprendizado de máquina. Com o Ground Truth, você pode usar trabalhadores do Amazon Mechanical Turk, uma empresa fornecedora de sua escolha, ou uma força de trabalho interna privada, juntamente com aprendizado de máquina para permitir a criação de um conjunto de dados rotulado. Você pode usar a saída do conjunto de dados rotulado do Ground Truth para treinar seus próprios modelos. Você também pode usar a saída como um conjunto de dados de treinamento para um modelo do Amazon SageMaker."
   ]
  },
  {
   "cell_type": "markdown",
   "id": "55363483-994a-4002-9c36-812ff277debb",
   "metadata": {},
   "source": [
    "### Principais Tarefas e Recursos de Etiqueta do GroundTruth\r\n",
    "\r\n",
    "O **Amazon SageMaker GroundTruth** oferece várias tarefas de rotulagem para aprimorar seus dados de treinamento de machine learning. Aqui estão algumas das principais tarefas disponíveis:\r\n",
    "\r\n",
    "1. **Caixas Delimitadoras (Bounding Boxes)**:\r\n",
    "   - Essa tarefa envolve rotular objetos em uma imagem desenhando caixas delimitadoras ao redor deles. É comumente usado para detecção de objetos e localização.\r\n",
    "\r\n",
    "2. **Classificação de Imagem**:\r\n",
    "   - Nessa tarefa, os rótulos são atribuídos a imagens inteiras. Por exemplo, classificar imagens como \"gato\" ou \"cachorro\".\r\n",
    "\r\n",
    "3. **Segmentação Semântica**:\r\n",
    "   - Aqui, cada pixel da imagem é rotulado com uma classe específica. É útil para segmentar objetos em uma cena.\r\n",
    "\r\n",
    "4. **Classificação de Texto**:\r\n",
    "   - Essa tarefa envolve rotular trechos de texto com categorias específicas. Por exemplo, classificar avaliações de produtos como \"positivas\", \"negativas\" ou \"neutras\".\r\n",
    "\r\n",
    "5. **Tarefas Personalizadas**:\r\n",
    "   - O SageMaker GroundTruth permite criar tarefas personalizadas para atender às necessidades específicas do seu projeto.\r\n",
    "\r\n",
    "Para mais detalhes e recursos, confira a página oficial do [Amazon SageMaker GroundTruth](https://aws.amazon.com/sagemaker/data-rotulaapp/pt/conversion/txt-to-md.ecursos/"
   ]
  },
  {
   "cell_type": "markdown",
   "id": "cce3a4fc-bd48-4c0d-88ec-d045502130b8",
   "metadata": {},
   "source": [
    "### Forças De Trabalho De Etiqueta De Dados Disponíveis\n",
    "\n",
    "Public Mechanical Turks: Amazon SageMaker facilita o interação entre clientes que exigem rotulagem de dados e um sob demanda, 24 horas por dia, 7 dias por semana, globalmente força de trabalho de 500 mil empreiteiros globalmente. \n",
    "\n",
    "Private: Uma equipe de etiquetadores pode ser especificado pelo cliente incluindo seus próprios rotuladores. Tudo é gerenciado através do SageMaker GroundTruth. Não há necessidade de rotuladores ter conta IAM ou Amazon. \n",
    "\n",
    "Vendor: SageMaker Groundtruth fornece uma curadoria fornecedores terceirizados que podem oferecer serviços de rotulagem de dados.tulagem de dados. :"
   ]
  },
  {
   "cell_type": "code",
   "execution_count": 8,
   "id": "d5874354-a474-4786-ba46-9a86767bee5e",
   "metadata": {},
   "outputs": [],
   "source": []
  },
  {
   "cell_type": "code",
   "execution_count": 9,
   "id": "0e11a221-c405-4eeb-babd-8caa5fcc91c4",
   "metadata": {},
   "outputs": [
    {
     "data": {
      "text/plain": [
       "[1, 2, 3, 4, 5, 7]"
      ]
     },
     "execution_count": 9,
     "metadata": {},
     "output_type": "execute_result"
    }
   ],
   "source": []
  },
  {
   "cell_type": "code",
   "execution_count": 6,
   "id": "70b54a3b-a890-4c8f-8fe6-73413f6d7ef9",
   "metadata": {},
   "outputs": [
    {
     "data": {
      "text/plain": [
       "[1, 2, 3, 4, 5, 7]"
      ]
     },
     "execution_count": 6,
     "metadata": {},
     "output_type": "execute_result"
    }
   ],
   "source": []
  }
 ],
 "metadata": {
  "kernelspec": {
   "display_name": "datascience_guide",
   "language": "python",
   "name": "datascience_guide"
  },
  "language_info": {
   "codemirror_mode": {
    "name": "ipython",
    "version": 3
   },
   "file_extension": ".py",
   "mimetype": "text/x-python",
   "name": "python",
   "nbconvert_exporter": "python",
   "pygments_lexer": "ipython3",
   "version": "3.8.18"
  }
 },
 "nbformat": 4,
 "nbformat_minor": 5
}
