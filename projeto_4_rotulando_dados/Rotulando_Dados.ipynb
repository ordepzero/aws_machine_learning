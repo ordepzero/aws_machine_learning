{
 "cells": [
  {
   "cell_type": "markdown",
   "id": "36a72d1f-b59c-4865-83fe-e6b80156b63b",
   "metadata": {},
   "source": [
    "### Visão Geral do Projeto\n",
    "* Neste projeto, aprenderemos como rotular imagens usando Amazon SageMaker GroundTruth.\n",
    "* Estes são os principais resultados de aprendizagem:\n",
    "\n",
    "1. A necessidade de conjuntos de dados rotulados\n",
    "\n",
    "2. Aplicações de aprendizagem supervisionada\n",
    "\n",
    "3. Desafios na obtenção de conjuntos de dados rotulados\n",
    "\n",
    "4. Aprenda como definir um trabalho de rotulagem usando o Amazon SageMaker Groundtruth\n",
    "\n",
    "5. Aprenda como rotular dados no Amazon SageMaker Groundtruth\n",
    "\n",
    "6. Compreenda o conceito de JsonL e arquivos de manifesto"
   ]
  },
  {
   "cell_type": "markdown",
   "id": "fa2b1e84-b1a5-4b14-83b5-45c81ac12818",
   "metadata": {},
   "source": [
    "### AWS Ground Truth\n",
    "Ground Truth ajuda você a construir conjuntos de dados de treinamento de alta qualidade para seus modelos de aprendizado de máquina. Com o Ground Truth, você pode usar trabalhadores do Amazon Mechanical Turk, uma empresa fornecedora de sua escolha, ou uma força de trabalho interna privada, juntamente com aprendizado de máquina para permitir a criação de um conjunto de dados rotulado. Você pode usar a saída do conjunto de dados rotulado do Ground Truth para treinar seus próprios modelos. Você também pode usar a saída como um conjunto de dados de treinamento para um modelo do Amazon SageMaker."
   ]
  },
  {
   "cell_type": "markdown",
   "id": "55363483-994a-4002-9c36-812ff277debb",
   "metadata": {},
   "source": [
    "### Principais Tarefas e Recursos de Rotulação do GroundTruth\r\n",
    "\r\n",
    "O **Amazon SageMaker GroundTruth** oferece várias tarefas de rotulagem para aprimorar seus dados de treinamento de machine learning. Aqui estão algumas das principais tarefas disponíveis:\r\n",
    "\r\n",
    "1. **Caixas Delimitadoras (Bounding Boxes)**:\r\n",
    "   - Essa tarefa envolve rotular objetos em uma imagem desenhando caixas delimitadoras ao redor deles. É comumente usado para detecção de objetos e localização.\r\n",
    "\r\n",
    "2. **Classificação de Imagem**:\r\n",
    "   - Nessa tarefa, os rótulos são atribuídos a imagens inteiras. Por exemplo, classificar imagens como \"gato\" ou \"cachorro\".\r\n",
    "\r\n",
    "3. **Segmentação Semântica**:\r\n",
    "   - Aqui, cada pixel da imagem é rotulado com uma classe específica. É útil para segmentar objetos em uma cena.\r\n",
    "\r\n",
    "4. **Classificação de Texto**:\r\n",
    "   - Essa tarefa envolve rotular trechos de texto com categorias específicas. Por exemplo, classificar avaliações de produtos como \"positivas\", \"negativas\" ou \"neutras\".\r\n",
    "\r\n",
    "5. **Tarefas Personalizadas**:\r\n",
    "   - O SageMaker GroundTruth permite criar tarefas personalizadas para atender às necessidades específicas do seu projeto.\r\n",
    "\r\n",
    "Para mais detalhes e recursos, confira a página oficial do [Amazon SageMaker GroundTruth](https://aws.amazon.com/sagemaker/data-rotulaapp/pt/conversion/txt-to-md.ecursos/"
   ]
  },
  {
   "cell_type": "markdown",
   "id": "cce3a4fc-bd48-4c0d-88ec-d045502130b8",
   "metadata": {},
   "source": [
    "### Forças De Trabalho De Rotulação De Dados Disponíveis\n",
    "\n",
    "Public Mechanical Turks: Amazon SageMaker facilita o interação entre clientes que exigem rotulagem de dados e um sob demanda, 24 horas por dia, 7 dias por semana, globalmente força de trabalho de 500 mil empreiteiros globalmente. \n",
    "\n",
    "Private: Uma equipe de etiquetadores pode ser especificado pelo cliente incluindo seus próprios rotuladores. Tudo é gerenciado através do SageMaker GroundTruth. Não há necessidade de rotuladores ter conta IAM ou Amazon. \n",
    "\n",
    "Vendor: SageMaker Groundtruth fornece uma curadoria fornecedores terceirizados que podem oferecer serviços de rotulagem de dados.tulagem de dados. :"
   ]
  },
  {
   "cell_type": "markdown",
   "id": "adbb21f7-d8d0-4443-b636-e7ed262e8f3b",
   "metadata": {},
   "source": [
    "### Desafios da Rotulação dos dados\n",
    "\n",
    "- Requer grande quantidade de dados\n",
    "- Grande quantidade de rotuladores humanos para rotular os dados\n",
    "- Controle padronizado\n",
    "- Muitos cientistas realizam curadoria e rotulação"
   ]
  },
  {
   "cell_type": "markdown",
   "id": "80c6a283-154a-47f5-a0f4-cad05ea0b2a1",
   "metadata": {},
   "source": [
    "### Desafio Prático\n",
    "\n",
    "- Criar um novo bucket\n",
    "- Carregar imagens nesse bucket\n",
    "- Criando job de rotulação\n",
    "- Configurando o job de rotulação\n",
    "- Configuração completa\n",
    "- Arquivo manifest\n",
    "- Executar a tareda de rotulação\n",
    "- Atualização do Manifest\n",
    "- Preenchimento do formulário de rotulação\n",
    "- Término da tarefa de rotulação\n",
    "- Atualização do arquivo manifest"
   ]
  },
  {
   "cell_type": "markdown",
   "id": "24ae2a74-d8f0-44d6-9489-3d906b090315",
   "metadata": {},
   "source": [
    "#### Criando o bucket e carregando as imagens\n",
    "\n",
    "![Imagens carregadas](images/carregando_imagens.png)"
   ]
  },
  {
   "cell_type": "markdown",
   "id": "3d637737-0b09-401b-b4c3-c0aadd30dc4f",
   "metadata": {},
   "source": [
    "#### Criando Job de Rotulação\n",
    "\n",
    "![Imagens carregadas](images/criando_rotulacao_job.png)"
   ]
  },
  {
   "cell_type": "markdown",
   "id": "87937685-c18c-42c7-a3b9-2175fa1ed158",
   "metadata": {},
   "source": [
    "#### Configuração do Job de Rotulação\n",
    "\n",
    "![Imagens carregadas](images/job_rotulacao_config_1.png)"
   ]
  },
  {
   "cell_type": "markdown",
   "id": "9d7ee434-f01c-45fc-8ceb-963ed7bf8e32",
   "metadata": {},
   "source": [
    "#### Configuração completa\n",
    "\n",
    "![Configuração Completa](images/configuracao_completa.png)"
   ]
  },
  {
   "cell_type": "markdown",
   "id": "af84c49b-747a-4d92-9a90-b94d341a2b5c",
   "metadata": {},
   "source": [
    "#### Criação do arquivo manifest\n",
    "\n",
    "![Imagens carregadas](images/arquivo_manifest.png)"
   ]
  },
  {
   "cell_type": "markdown",
   "id": "75c24b4b-2cfc-406c-88d2-f0196c348c58",
   "metadata": {},
   "source": [
    "![Imagens carregadas](images/arquivo_manifest_s3.png)"
   ]
  },
  {
   "cell_type": "markdown",
   "id": "cf38f415-3b8b-4a61-90a3-2ca76b030e6e",
   "metadata": {},
   "source": [
    "- este arquivo contém as informações de cada imagem"
   ]
  },
  {
   "cell_type": "markdown",
   "id": "304b7aaa-9d0c-448d-8f43-ad22bd37352e",
   "metadata": {},
   "source": [
    "#### Tipo de Tarefa - Classificação de Imagem\n",
    "\n",
    "![Imagens carregadas](images/tarefa_classificacao_imagem.png)"
   ]
  },
  {
   "cell_type": "markdown",
   "id": "2faf42e6-8160-4803-8414-ec4348b4a1e8",
   "metadata": {},
   "source": [
    "#### Tipo de Workers\n",
    "\n",
    "![Tiop de workers](images/tipo_trabalhadores.png)"
   ]
  },
  {
   "cell_type": "markdown",
   "id": "f322e564-caaa-4ae5-87f8-9554ffc7f173",
   "metadata": {},
   "source": [
    "#### Tempo da Tarefa\n",
    "\n",
    "![Tempo da tarefa](images/tempo_tarefa.png)"
   ]
  },
  {
   "cell_type": "markdown",
   "id": "994de163-dfd1-40b5-a32c-b4c6f86d0565",
   "metadata": {},
   "source": [
    "#### Modelo de apresentação de rotulação\n",
    "\n",
    "![Imagens carregadas](images/modelo_rotulacao.png)"
   ]
  },
  {
   "cell_type": "markdown",
   "id": "91ba9681-d8e8-486c-a531-e180e3ecfe6d",
   "metadata": {},
   "source": [
    "#### Modelo de apresentação de rotulação preenchido\n",
    "\n",
    "![Imagens carregadas](images/modelo_rotulacao_preenchido.png)"
   ]
  },
  {
   "cell_type": "markdown",
   "id": "7ea56ab9-affa-43fd-be16-ee1598faf4c7",
   "metadata": {},
   "source": [
    "#### Imagens Rotualadas\n",
    "\n",
    "![Imagens rotuladas](images/imagens_rotuladas.png)"
   ]
  },
  {
   "cell_type": "code",
   "execution_count": null,
   "id": "be680526-4ccb-4789-9f81-536bec8b7cc7",
   "metadata": {},
   "outputs": [],
   "source": []
  },
  {
   "cell_type": "markdown",
   "id": "947343b8-f5b2-46b1-b5bf-329023bf3499",
   "metadata": {},
   "source": [
    "![Imagens carregadas](images/criando_rotulacao_job.png)"
   ]
  },
  {
   "cell_type": "markdown",
   "id": "9d623d24-08b6-4884-ac83-1e34fa4aaadd",
   "metadata": {},
   "source": [
    "![Imagens carregadas](images/criando_rotulacao_job.png)"
   ]
  }
 ],
 "metadata": {
  "kernelspec": {
   "display_name": "datascience_guide",
   "language": "python",
   "name": "datascience_guide"
  },
  "language_info": {
   "codemirror_mode": {
    "name": "ipython",
    "version": 3
   },
   "file_extension": ".py",
   "mimetype": "text/x-python",
   "name": "python",
   "nbconvert_exporter": "python",
   "pygments_lexer": "ipython3",
   "version": "3.8.18"
  }
 },
 "nbformat": 4,
 "nbformat_minor": 5
}
